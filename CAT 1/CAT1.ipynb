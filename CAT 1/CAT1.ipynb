{
 "cells": [
  {
   "cell_type": "markdown",
   "metadata": {},
   "source": [
    "Initial Insights from the Dataset:\n",
    "\n",
    "768 entries, 9 columns.\n",
    "\n",
    "Features:\n",
    "\n",
    "Numerical: Pregnancies, Glucose, BloodPressure, SkinThickness, Insulin, BMI, DiabetesPedigreeFunction, Age.\n",
    "\n",
    "Target Variable: Outcome (0 = No Diabetes, 1 = Diabetes).\n",
    "\n",
    "No missing values (according to .info()), but zeros in Insulin, SkinThickness, BloodPressure, and Glucose may indicate missing values."
   ]
  },
  {
   "cell_type": "code",
   "execution_count": 12,
   "metadata": {},
   "outputs": [
    {
     "name": "stdout",
     "output_type": "stream",
     "text": [
      "<class 'pandas.core.frame.DataFrame'>\n",
      "RangeIndex: 768 entries, 0 to 767\n",
      "Data columns (total 9 columns):\n",
      " #   Column                    Non-Null Count  Dtype  \n",
      "---  ------                    --------------  -----  \n",
      " 0   Pregnancies               768 non-null    int64  \n",
      " 1   Glucose                   768 non-null    int64  \n",
      " 2   BloodPressure             768 non-null    int64  \n",
      " 3   SkinThickness             768 non-null    int64  \n",
      " 4   Insulin                   768 non-null    int64  \n",
      " 5   BMI                       768 non-null    float64\n",
      " 6   DiabetesPedigreeFunction  768 non-null    float64\n",
      " 7   Age                       768 non-null    int64  \n",
      " 8   Outcome                   768 non-null    int64  \n",
      "dtypes: float64(2), int64(7)\n",
      "memory usage: 54.1 KB\n"
     ]
    },
    {
     "data": {
      "text/plain": [
       "(None,\n",
       "    Pregnancies  Glucose  BloodPressure  SkinThickness  Insulin   BMI  \\\n",
       " 0            6      148             72             35        0  33.6   \n",
       " 1            1       85             66             29        0  26.6   \n",
       " 2            8      183             64              0        0  23.3   \n",
       " 3            1       89             66             23       94  28.1   \n",
       " 4            0      137             40             35      168  43.1   \n",
       " \n",
       "    DiabetesPedigreeFunction  Age  Outcome  \n",
       " 0                     0.627   50        1  \n",
       " 1                     0.351   31        0  \n",
       " 2                     0.672   32        1  \n",
       " 3                     0.167   21        0  \n",
       " 4                     2.288   33        1  )"
      ]
     },
     "execution_count": 12,
     "metadata": {},
     "output_type": "execute_result"
    }
   ],
   "source": [
    "import pandas as pd\n",
    "\n",
    "# Load the dataset\n",
    "file_path = \"diabetes.csv\"\n",
    "df = pd.read_csv(file_path)\n",
    "\n",
    "# Display basic info and the first few rows\n",
    "df.info(), df.head()\n"
   ]
  },
  {
   "cell_type": "markdown",
   "metadata": {},
   "source": [
    "Key Findings:\n",
    "\n",
    "Potential Missing Values:\n",
    "\n",
    "Several features (Glucose, BloodPressure, SkinThickness, Insulin, BMI) have zero values, which are biologically unlikely and likely indicate missing data.\n",
    "\n",
    "Feature Distributions:\n",
    "\n",
    "Glucose, BMI, and Age appear normally distributed.\n",
    "\n",
    "Insulin and SkinThickness are skewed with many zeros.\n",
    "\n",
    "Pregnancies has a right-skewed distribution (most values are low but some outliers exist).\n",
    "\n",
    "Next Steps:\n",
    "\n",
    "Handle missing values (replace zeros with median/mean or use imputation).\n",
    "\n",
    "Check correlations between features and target variable."
   ]
  },
  {
   "cell_type": "code",
   "execution_count": 13,
   "metadata": {},
   "outputs": [
    {
     "ename": "ModuleNotFoundError",
     "evalue": "No module named 'matplotlib'",
     "output_type": "error",
     "traceback": [
      "\u001b[1;31m---------------------------------------------------------------------------\u001b[0m",
      "\u001b[1;31mModuleNotFoundError\u001b[0m                       Traceback (most recent call last)",
      "Cell \u001b[1;32mIn[13], line 1\u001b[0m\n\u001b[1;32m----> 1\u001b[0m \u001b[38;5;28;01mimport\u001b[39;00m\u001b[38;5;250m \u001b[39m\u001b[38;5;21;01mmatplotlib\u001b[39;00m\u001b[38;5;21;01m.\u001b[39;00m\u001b[38;5;21;01mpyplot\u001b[39;00m\u001b[38;5;250m \u001b[39m\u001b[38;5;28;01mas\u001b[39;00m\u001b[38;5;250m \u001b[39m\u001b[38;5;21;01mplt\u001b[39;00m\n\u001b[0;32m      2\u001b[0m \u001b[38;5;28;01mimport\u001b[39;00m\u001b[38;5;250m \u001b[39m\u001b[38;5;21;01mseaborn\u001b[39;00m\u001b[38;5;250m \u001b[39m\u001b[38;5;28;01mas\u001b[39;00m\u001b[38;5;250m \u001b[39m\u001b[38;5;21;01msns\u001b[39;00m\n\u001b[0;32m      4\u001b[0m \u001b[38;5;66;03m# Check for zero values in features where zero is not a valid measurement\u001b[39;00m\n",
      "\u001b[1;31mModuleNotFoundError\u001b[0m: No module named 'matplotlib'"
     ]
    }
   ],
   "source": [
    "import matplotlib.pyplot as plt\n",
    "import seaborn as sns\n",
    "\n",
    "# Check for zero values in features where zero is not a valid measurement\n",
    "columns_with_zeros = [\"Glucose\", \"BloodPressure\", \"SkinThickness\", \"Insulin\", \"BMI\"]\n",
    "zero_counts = (df[columns_with_zeros] == 0).sum()\n",
    "\n",
    "# Plot the count of zero values per feature\n",
    "plt.figure(figsize=(8, 5))\n",
    "zero_counts.plot(kind='bar', color='red', alpha=0.7)\n",
    "plt.title(\"Count of Zero Values in Key Features\")\n",
    "plt.ylabel(\"Count of Zeros\")\n",
    "plt.show()\n",
    "\n",
    "# Plot distribution of numerical features\n",
    "df.hist(figsize=(12, 10), bins=20, edgecolor=\"black\")\n",
    "plt.suptitle(\"Feature Distributions\", fontsize=16)\n",
    "plt.show()\n"
   ]
  },
  {
   "cell_type": "markdown",
   "metadata": {},
   "source": [
    "Correlation Insights:\n",
    "\n",
    "Glucose has the strongest positive correlation with Outcome (0.47), meaning higher glucose levels are associated with diabetes.\n",
    "\n",
    "BMI, Age, and Pregnancies also show moderate correlation with Outcome.\n",
    "\n",
    "Insulin and SkinThickness have weak correlations, likely due to missing values (zeros).\n",
    "\n",
    "BloodPressure has almost no correlation with Outcome (-0.07).\n",
    "\n",
    "Next Steps:\n",
    "\n",
    "Handle missing values in Glucose, BloodPressure, SkinThickness, Insulin, and BMI (replace zeros with the median).\n",
    "\n",
    "Normalize numerical features to improve model performance."
   ]
  },
  {
   "cell_type": "code",
   "execution_count": 14,
   "metadata": {},
   "outputs": [
    {
     "ename": "NameError",
     "evalue": "name 'plt' is not defined",
     "output_type": "error",
     "traceback": [
      "\u001b[1;31m---------------------------------------------------------------------------\u001b[0m",
      "\u001b[1;31mNameError\u001b[0m                                 Traceback (most recent call last)",
      "Cell \u001b[1;32mIn[14], line 5\u001b[0m\n\u001b[0;32m      2\u001b[0m correlation_matrix \u001b[38;5;241m=\u001b[39m df\u001b[38;5;241m.\u001b[39mcorr()\n\u001b[0;32m      4\u001b[0m \u001b[38;5;66;03m# Plot heatmap\u001b[39;00m\n\u001b[1;32m----> 5\u001b[0m \u001b[43mplt\u001b[49m\u001b[38;5;241m.\u001b[39mfigure(figsize\u001b[38;5;241m=\u001b[39m(\u001b[38;5;241m10\u001b[39m, \u001b[38;5;241m6\u001b[39m))\n\u001b[0;32m      6\u001b[0m sns\u001b[38;5;241m.\u001b[39mheatmap(correlation_matrix, annot\u001b[38;5;241m=\u001b[39m\u001b[38;5;28;01mTrue\u001b[39;00m, cmap\u001b[38;5;241m=\u001b[39m\u001b[38;5;124m\"\u001b[39m\u001b[38;5;124mcoolwarm\u001b[39m\u001b[38;5;124m\"\u001b[39m, fmt\u001b[38;5;241m=\u001b[39m\u001b[38;5;124m\"\u001b[39m\u001b[38;5;124m.2f\u001b[39m\u001b[38;5;124m\"\u001b[39m, linewidths\u001b[38;5;241m=\u001b[39m\u001b[38;5;241m0.5\u001b[39m)\n\u001b[0;32m      7\u001b[0m plt\u001b[38;5;241m.\u001b[39mtitle(\u001b[38;5;124m\"\u001b[39m\u001b[38;5;124mFeature Correlation Heatmap\u001b[39m\u001b[38;5;124m\"\u001b[39m)\n",
      "\u001b[1;31mNameError\u001b[0m: name 'plt' is not defined"
     ]
    }
   ],
   "source": [
    "# Compute correlation matrix\n",
    "correlation_matrix = df.corr()\n",
    "\n",
    "# Plot heatmap\n",
    "plt.figure(figsize=(10, 6))\n",
    "sns.heatmap(correlation_matrix, annot=True, cmap=\"coolwarm\", fmt=\".2f\", linewidths=0.5)\n",
    "plt.title(\"Feature Correlation Heatmap\")\n",
    "plt.show()\n"
   ]
  },
  {
   "cell_type": "markdown",
   "metadata": {},
   "source": [
    "Missing Value Handling Complete:\n",
    "\n",
    "Zeros in key features (Glucose, BloodPressure, SkinThickness, Insulin, BMI) have been replaced with their respective median values.\n",
    "\n",
    "The dataset is now free of biologically invalid zero values.\n",
    "\n",
    "Next Steps:\n",
    "\n",
    "Normalize numerical features (Glucose, BloodPressure, SkinThickness, Insulin, BMI, DiabetesPedigreeFunction, Age) to ensure better model performance.\n",
    "\n",
    "Encode categorical variables (not needed here since Outcome is already numeric)."
   ]
  },
  {
   "cell_type": "code",
   "execution_count": null,
   "metadata": {},
   "outputs": [],
   "source": [
    "# Replace zero values with median in selected columns\n",
    "for col in columns_with_zeros:\n",
    "    median_value = df[col].median()\n",
    "    df[col].replace(0, median_value, inplace=True)\n",
    "\n",
    "# Verify replacement\n",
    "df[columns_with_zeros].describe()\n"
   ]
  },
  {
   "cell_type": "markdown",
   "metadata": {},
   "source": [
    "Normalization Complete:\n",
    "All numerical features are now scaled between 0 and 1 using Min-Max Scaling.\n",
    "This ensures that features with different units (e.g., Glucose vs. Insulin) contribute proportionally to the model."
   ]
  }
 ],
 "metadata": {
  "kernelspec": {
   "display_name": "Python 3",
   "language": "python",
   "name": "python3"
  },
  "language_info": {
   "codemirror_mode": {
    "name": "ipython",
    "version": 3
   },
   "file_extension": ".py",
   "mimetype": "text/x-python",
   "name": "python",
   "nbconvert_exporter": "python",
   "pygments_lexer": "ipython3",
   "version": "3.12.0"
  }
 },
 "nbformat": 4,
 "nbformat_minor": 2
}
